{
  "nbformat": 4,
  "nbformat_minor": 0,
  "metadata": {
    "colab": {
      "name": "Advance_Data_Mining_Assignment.ipynb",
      "provenance": [],
      "collapsed_sections": [],
      "toc_visible": true,
      "authorship_tag": "ABX9TyO8MR0clamlE2HFjX8RfwYR",
      "include_colab_link": true
    },
    "kernelspec": {
      "name": "python3",
      "display_name": "Python 3"
    },
    "language_info": {
      "name": "python"
    }
  },
  "cells": [
    {
      "cell_type": "markdown",
      "metadata": {
        "id": "view-in-github",
        "colab_type": "text"
      },
      "source": [
        "<a href=\"https://colab.research.google.com/github/gangasani-anusha/DataMining_assignments/blob/main/Advance_Data_Mining_Assignment.ipynb\" target=\"_parent\"><img src=\"https://colab.research.google.com/assets/colab-badge.svg\" alt=\"Open In Colab\"/></a>"
      ]
    },
    {
      "cell_type": "code",
      "metadata": {
        "id": "cgs7MfOPuIFu"
      },
      "source": [
        "import numpy as np\n",
        "import matplotlib.pyplot as plt\n",
        "from scipy.cluster.hierarchy import dendrogram, linkage \n",
        "from matplotlib import pyplot as plt\n"
      ],
      "execution_count": 49,
      "outputs": []
    },
    {
      "cell_type": "code",
      "metadata": {
        "id": "3Hb3jltC2IC5"
      },
      "source": [
        "X = np.array([\n",
        "\t      [2,2],\n",
        "\t      [2,6],\n",
        "\t      [3,7],\n",
        "\t      [5,2],\n",
        "\t      [5,5],\n",
        "\t      [5,8],\n",
        "\t      [6,6],\n",
        "\t      [7,3],\n",
        "\t      [8,4],\n",
        "\t      [10,6],\n",
        "\t      [12,8],])\n",
        "labels = range(1, 15)\n",
        "plt.figure(figsize=(12, 10)) \n",
        "plt.subplots_adjust(bottom=0.3) \n",
        "plt.scatter(X[:,0],X[:,1], label='True Position')\n",
        "for label, x, y in zip(labels, X[:, 0], X[:, 1]): plt.annotate(label, xy=(x, y), xytext=(-3, 3), textcoords='offset points', ha='right', va='bottom')\n",
        "plt.show()"
      ],
      "execution_count": null,
      "outputs": []
    },
    {
      "cell_type": "code",
      "metadata": {
        "id": "QKltoLdK6EGD"
      },
      "source": [
        "plt.figure(figsize=(10, 8))\n",
        "plt.title(' Hierarchical Clustering Dendrogram - Single Link \\n')\n",
        "dendrogram( linked, leaf_rotation=90, leaf_font_size=10, color_threshold= 0.6 )\n",
        "plt.show()"
      ],
      "execution_count": null,
      "outputs": []
    },
    {
      "cell_type": "code",
      "metadata": {
        "id": "nsMe1m-w7tUu"
      },
      "source": [
        "plt.figure(figsize=(10, 8))\n",
        "plt.title(' Hierarchical Clustering Dendrogram - Complete Link \\n')\n",
        "dendrogram(linked_complete, leaf_rotation=90, leaf_font_size=10, color_threshold= 0.6 )\n",
        "plt.show()"
      ],
      "execution_count": null,
      "outputs": []
    },
    {
      "cell_type": "code",
      "metadata": {
        "id": "vhopLAXD8G3r"
      },
      "source": [
        "plt.figure(figsize=(10, 8))\n",
        "plt.title(' Hierarchical Clustering Dendrogram - Average Link \\n')\n",
        "dendrogram(linked_average, leaf_rotation=90, leaf_font_size=10, color_threshold= 0.6 )\n",
        "plt.show()"
      ],
      "execution_count": null,
      "outputs": []
    }
  ]
}